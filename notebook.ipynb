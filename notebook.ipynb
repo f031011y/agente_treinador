{
  "nbformat": 4,
  "nbformat_minor": 0,
  "metadata": {
    "colab": {
      "provenance": []
    },
    "kernelspec": {
      "name": "python3",
      "display_name": "Python 3"
    },
    "language_info": {
      "name": "python"
    }
  },
  "cells": [
    {
      "cell_type": "code",
      "source": [
        "!pip -q install google-genai"
      ],
      "metadata": {
        "id": "UCCbECexLk_h"
      },
      "execution_count": null,
      "outputs": []
    },
    {
      "cell_type": "code",
      "source": [
        "from IPython.display import HTML, Markdown"
      ],
      "metadata": {
        "id": "7l-1wOj1_s6B"
      },
      "execution_count": 29,
      "outputs": []
    },
    {
      "cell_type": "code",
      "source": [
        "# Configura a API Key do Google Gemini\n",
        "\n",
        "import os\n",
        "from google.colab import userdata\n",
        "\n",
        "os.environ[\"GOOGLE_API_KEY\"] = userdata.get('GOOGLE_API_KEY')"
      ],
      "metadata": {
        "id": "NfCqHo1tLk8P"
      },
      "execution_count": null,
      "outputs": []
    },
    {
      "cell_type": "code",
      "source": [
        "# Configura o cliente da SDK do Gemini\n",
        "\n",
        "from google import genai\n",
        "\n",
        "client = genai.Client()\n",
        "\n",
        "MODEL_ID = \"gemini-2.0-flash\""
      ],
      "metadata": {
        "id": "bV4w0H5TLk5g"
      },
      "execution_count": null,
      "outputs": []
    },
    {
      "cell_type": "code",
      "source": [
        "# Instalar Framework de agentes do Google ################################################\n",
        "!pip install -q google-adk"
      ],
      "metadata": {
        "colab": {
          "base_uri": "https://localhost:8080/"
        },
        "id": "a1eRPalxEnj7",
        "outputId": "e43db8b0-7274-41a0-c663-ae8577154020"
      },
      "execution_count": null,
      "outputs": [
        {
          "output_type": "stream",
          "name": "stdout",
          "text": [
            "\u001b[?25l   \u001b[90m━━━━━━━━━━━━━━━━━━━━━━━━━━━━━━━━━━━━━━━━\u001b[0m \u001b[32m0.0/1.2 MB\u001b[0m \u001b[31m?\u001b[0m eta \u001b[36m-:--:--\u001b[0m\r\u001b[2K   \u001b[91m━━━━━━━━━━━━━\u001b[0m\u001b[91m╸\u001b[0m\u001b[90m━━━━━━━━━━━━━━━━━━━━━━━━━━\u001b[0m \u001b[32m0.4/1.2 MB\u001b[0m \u001b[31m14.8 MB/s\u001b[0m eta \u001b[36m0:00:01\u001b[0m\r\u001b[2K   \u001b[91m━━━━━━━━━━━━━━━━━━━━━━━━━━━━━━━━━━━━━━━\u001b[0m\u001b[91m╸\u001b[0m \u001b[32m1.2/1.2 MB\u001b[0m \u001b[31m23.5 MB/s\u001b[0m eta \u001b[36m0:00:01\u001b[0m\r\u001b[2K   \u001b[90m━━━━━━━━━━━━━━━━━━━━━━━━━━━━━━━━━━━━━━━━\u001b[0m \u001b[32m1.2/1.2 MB\u001b[0m \u001b[31m16.3 MB/s\u001b[0m eta \u001b[36m0:00:00\u001b[0m\n",
            "\u001b[?25h\u001b[?25l   \u001b[90m━━━━━━━━━━━━━━━━━━━━━━━━━━━━━━━━━━━━━━━━\u001b[0m \u001b[32m0.0/232.1 kB\u001b[0m \u001b[31m?\u001b[0m eta \u001b[36m-:--:--\u001b[0m\r\u001b[2K   \u001b[90m━━━━━━━━━━━━━━━━━━━━━━━━━━━━━━━━━━━━━━━━\u001b[0m \u001b[32m232.1/232.1 kB\u001b[0m \u001b[31m12.1 MB/s\u001b[0m eta \u001b[36m0:00:00\u001b[0m\n",
            "\u001b[2K   \u001b[90m━━━━━━━━━━━━━━━━━━━━━━━━━━━━━━━━━━━━━━━━\u001b[0m \u001b[32m95.2/95.2 kB\u001b[0m \u001b[31m5.9 MB/s\u001b[0m eta \u001b[36m0:00:00\u001b[0m\n",
            "\u001b[2K   \u001b[90m━━━━━━━━━━━━━━━━━━━━━━━━━━━━━━━━━━━━━━━━\u001b[0m \u001b[32m217.1/217.1 kB\u001b[0m \u001b[31m12.4 MB/s\u001b[0m eta \u001b[36m0:00:00\u001b[0m\n",
            "\u001b[2K   \u001b[90m━━━━━━━━━━━━━━━━━━━━━━━━━━━━━━━━━━━━━━━━\u001b[0m \u001b[32m334.1/334.1 kB\u001b[0m \u001b[31m16.6 MB/s\u001b[0m eta \u001b[36m0:00:00\u001b[0m\n",
            "\u001b[2K   \u001b[90m━━━━━━━━━━━━━━━━━━━━━━━━━━━━━━━━━━━━━━━━\u001b[0m \u001b[32m125.1/125.1 kB\u001b[0m \u001b[31m8.4 MB/s\u001b[0m eta \u001b[36m0:00:00\u001b[0m\n",
            "\u001b[2K   \u001b[90m━━━━━━━━━━━━━━━━━━━━━━━━━━━━━━━━━━━━━━━━\u001b[0m \u001b[32m65.8/65.8 kB\u001b[0m \u001b[31m4.9 MB/s\u001b[0m eta \u001b[36m0:00:00\u001b[0m\n",
            "\u001b[2K   \u001b[90m━━━━━━━━━━━━━━━━━━━━━━━━━━━━━━━━━━━━━━━━\u001b[0m \u001b[32m119.0/119.0 kB\u001b[0m \u001b[31m7.7 MB/s\u001b[0m eta \u001b[36m0:00:00\u001b[0m\n",
            "\u001b[2K   \u001b[90m━━━━━━━━━━━━━━━━━━━━━━━━━━━━━━━━━━━━━━━━\u001b[0m \u001b[32m194.9/194.9 kB\u001b[0m \u001b[31m11.6 MB/s\u001b[0m eta \u001b[36m0:00:00\u001b[0m\n",
            "\u001b[2K   \u001b[90m━━━━━━━━━━━━━━━━━━━━━━━━━━━━━━━━━━━━━━━━\u001b[0m \u001b[32m62.5/62.5 kB\u001b[0m \u001b[31m4.0 MB/s\u001b[0m eta \u001b[36m0:00:00\u001b[0m\n",
            "\u001b[2K   \u001b[90m━━━━━━━━━━━━━━━━━━━━━━━━━━━━━━━━━━━━━━━━\u001b[0m \u001b[32m103.3/103.3 kB\u001b[0m \u001b[31m7.2 MB/s\u001b[0m eta \u001b[36m0:00:00\u001b[0m\n",
            "\u001b[2K   \u001b[90m━━━━━━━━━━━━━━━━━━━━━━━━━━━━━━━━━━━━━━━━\u001b[0m \u001b[32m44.4/44.4 kB\u001b[0m \u001b[31m2.5 MB/s\u001b[0m eta \u001b[36m0:00:00\u001b[0m\n",
            "\u001b[2K   \u001b[90m━━━━━━━━━━━━━━━━━━━━━━━━━━━━━━━━━━━━━━━━\u001b[0m \u001b[32m72.0/72.0 kB\u001b[0m \u001b[31m5.2 MB/s\u001b[0m eta \u001b[36m0:00:00\u001b[0m\n",
            "\u001b[?25h"
          ]
        }
      ]
    },
    {
      "cell_type": "code",
      "execution_count": null,
      "metadata": {
        "id": "aePV2bdfDeoW"
      },
      "outputs": [],
      "source": [
        "from google.adk.agents import Agent\n",
        "from google.adk.runners import Runner\n",
        "from google.adk.sessions import InMemorySessionService\n",
        "from google.adk.tools import google_search\n",
        "from google.genai import types  # Para criar conteúdos (Content e Part)\n",
        "from datetime import date\n",
        "import textwrap # Para formatar melhor a saída de texto\n",
        "from IPython.display import display, Markdown # Para exibir texto formatado no Colab\n",
        "import requests # Para fazer requisições HTTP\n",
        "import warnings\n",
        "\n",
        "warnings.filterwarnings(\"ignore\")"
      ]
    },
    {
      "cell_type": "code",
      "source": [
        "# Função auxiliar que envia uma mensagem para um agente via Runner e retorna a resposta final\n",
        "def call_agent(agent: Agent, message_text: str) -> str:\n",
        "    # Cria um serviço de sessão em memória\n",
        "    session_service = InMemorySessionService()\n",
        "    # Cria uma nova sessão (você pode personalizar os IDs conforme necessário)\n",
        "    session = session_service.create_session(app_name=agent.name, user_id=\"user1\", session_id=\"session1\")\n",
        "    # Cria um Runner para o agente\n",
        "    runner = Runner(agent=agent, app_name=agent.name, session_service=session_service)\n",
        "    # Cria o conteúdo da mensagem de entrada\n",
        "    content = types.Content(role=\"user\", parts=[types.Part(text=message_text)])\n",
        "\n",
        "    final_response = \"\"\n",
        "    # Itera assincronamente pelos eventos retornados durante a execução do agente\n",
        "    for event in runner.run(user_id=\"user1\", session_id=\"session1\", new_message=content):\n",
        "        if event.is_final_response():\n",
        "          for part in event.content.parts:\n",
        "            if part.text is not None:\n",
        "              final_response += part.text\n",
        "              final_response += \"\\n\"\n",
        "    return final_response"
      ],
      "metadata": {
        "id": "_xP4lWhsS5ko"
      },
      "execution_count": null,
      "outputs": []
    },
    {
      "cell_type": "code",
      "source": [
        "def agente_treinador(tec):\n",
        "\n",
        "    treinador = Agent(\n",
        "        name=\"agente_treinador\",\n",
        "        model=\"gemini-2.0-flash\",\n",
        "        instruction=\"\"\"\n",
        "            Você é um treinador de pessoas desenvolvedoras, especializado em fornecer desafios práticos envolvendo a tecnologia\n",
        "            ou tópico que o usuário informou. Você sempre estimula o aprendizado por meio de atividades cuja finalidade possa ser\n",
        "            aplicada em cenários reais de desenvolvimento de [tipo de aplicação, ex: web, mobile, backend]. Baseado na tecnologia\n",
        "            informada, gere 9 desafios práticos, apresentados em formato de lista numerada com uma breve descrição do problema e os\n",
        "            critérios de sucesso esperados. Crie 3 desafios de nível iniciante (focados em conceitos fundamentais), 3 de nível\n",
        "            intermediário (envolvendo a aplicação de múltiplos conceitos ou a resolução de problemas mais complexos) e 3 de nível\n",
        "            avançado (que exigem conhecimento profundo da tecnologia e a capacidade de lidar com cenários desafiadores ou otimizações).\n",
        "            Seja criativo nos desafios, buscando criar algo fora do convencional, como [exemplos de cenários não convencionais, mas\n",
        "            relevantes para a tecnologia], mas que ainda assim não fuja do escopo de dificuldade pretendido para cada nível.\n",
        "            Para cada nível, os desafios devem refletir a complexidade e os conhecimentos esperados de um profissional com essa\n",
        "            experiência na tecnologia. Ao final de cada desafio, inclua uma breve sugestão de como o usuário pode verificar sua\n",
        "            solução ou um conceito chave a ser aprendido com a atividade. Comunique-se de forma sucinta, objetiva e precisa.\n",
        "        \"\"\",\n",
        "        description=\"Agente que gera desafios\",\n",
        "        tools=[google_search]\n",
        "    )\n",
        "\n",
        "    entrada_agente_treinador = tec\n",
        "\n",
        "    tentativa = call_agent(treinador, entrada_agente_treinador)\n",
        "    return tentativa"
      ],
      "metadata": {
        "id": "o8bqIfi_DyH8"
      },
      "execution_count": 67,
      "outputs": []
    },
    {
      "cell_type": "code",
      "source": [
        "tecnologia = input(\"Tecnologia escolhida: \")\n",
        "\n",
        "desafios = agente_treinador(tecnologia)\n",
        "display(Markdown(f\"\\n{desafios}\"))"
      ],
      "metadata": {
        "colab": {
          "base_uri": "https://localhost:8080/",
          "height": 1000
        },
        "id": "6xzI6LKzxxnN",
        "outputId": "18946112-2412-4c89-f205-ff4efd582829"
      },
      "execution_count": 81,
      "outputs": [
        {
          "name": "stdout",
          "output_type": "stream",
          "text": [
            "Tecnologia escolhida: Android\n"
          ]
        },
        {
          "output_type": "display_data",
          "data": {
            "text/plain": [
              "<IPython.core.display.Markdown object>"
            ],
            "text/markdown": "\nAqui estão 9 desafios práticos de desenvolvimento Android, divididos em níveis iniciante, intermediário e avançado, projetados para aprimorar suas habilidades e conhecimentos na plataforma:\n\n**Iniciante:**\n\n1.  **Criar um Conversor de Unidades:** Desenvolva um aplicativo que converta medidas de temperatura (Celsius para Fahrenheit e vice-versa) ou distâncias (metros para pés, quilômetros para milhas).\n    *   **Critérios de Sucesso:** Interface intuitiva com campos de entrada para o valor a ser convertido e botões para selecionar o tipo de conversão. O resultado deve ser exibido em um campo de texto atualizado dinamicamente.\n    *   **Verificação:** Compare os resultados do seu aplicativo com conversores online para garantir a precisão. Este desafio reforça o uso de `EditText`, `TextView`, `Button` e manipulação de eventos.\n\n2.  **Lista de Tarefas Simples:** Crie um app para gerenciar uma lista de tarefas. O usuário deve poder adicionar novas tarefas, marcar como concluídas e excluir tarefas existentes.\n    *   **Critérios de Sucesso:** Utilizar um `RecyclerView` para exibir a lista de tarefas. Cada item da lista deve ter um checkbox para marcar como concluído e um botão para excluir. Os dados devem ser persistidos localmente (e.g., usando `SharedPreferences` ou um banco de dados SQLite).\n    *   **Verificação:** Certifique-se de que as tarefas são salvas corretamente e permanecem na lista mesmo após o app ser reiniciado. Este desafio pratica o uso de listas, persistência de dados e manipulação de UI.\n\n3.  **Calculadora de IMC:** Implemente uma calculadora de Índice de Massa Corporal (IMC). O aplicativo deve receber a altura e o peso do usuário, calcular o IMC e exibir o resultado juntamente com uma categoria de peso (e.g., abaixo do peso, normal, sobrepeso, obesidade).\n    *   **Critérios de Sucesso:** Validar as entradas do usuário para garantir que altura e peso sejam valores numéricos válidos. Exibir uma mensagem de erro caso as entradas sejam inválidas. A categoria de peso deve ser exibida de forma clara e concisa.\n    *   **Verificação:** Use uma calculadora de IMC online para comparar os resultados e garantir a precisão. Este desafio trabalha com entrada de dados, cálculos e lógica condicional.\n\n**Intermediário:**\n\n4.  **Aplicativo de Previsão do Tempo:** Integre uma API de previsão do tempo (como a OpenWeatherMap) para exibir a previsão atual e dos próximos dias para uma determinada cidade.\n    *   **Critérios de Sucesso:** O usuário deve poder inserir o nome de uma cidade e receber a previsão do tempo (temperatura, umidade, descrição do clima, etc.). A interface deve exibir informações relevantes de forma organizada e fácil de entender. Trate erros de rede e exiba mensagens amigáveis caso a API não esteja disponível.\n    *   **Verificação:** Compare a previsão do seu aplicativo com outros serviços de previsão do tempo para garantir a precisão. Este desafio envolve requisições HTTP, parsing de JSON e manipulação de dados assíncronos.\n\n5.  **Gerenciador de Notas com Banco de Dados:** Desenvolva um aplicativo para criar, editar e excluir notas. Utilize um banco de dados SQLite para armazenar as notas.\n    *   **Critérios de Sucesso:** O aplicativo deve permitir criar notas com título e conteúdo. As notas devem ser listadas em um `RecyclerView` e o usuário deve poder tocar em uma nota para editar ou excluir. Utilize um `ContentProvider` para acessar os dados do banco de dados de forma segura e eficiente.\n    *   **Verificação:** Crie várias notas, edite-as e exclua-as para garantir que o aplicativo está funcionando corretamente. Este desafio reforça o uso de bancos de dados, `RecyclerView`, `ContentProvider` e manipulação de dados.\n\n6.  **Reprodutor de Áudio Simples:** Crie um aplicativo que reproduza arquivos de áudio armazenados no dispositivo. O aplicativo deve ter controles para reproduzir, pausar, avançar, retroceder e exibir o tempo atual da reprodução.\n    *   **Critérios de Sucesso:** O aplicativo deve ser capaz de listar os arquivos de áudio no dispositivo e permitir que o usuário selecione um arquivo para reproduzir. Utilize um `Service` para reproduzir o áudio em segundo plano, mesmo quando o aplicativo não está em primeiro plano.\n    *   **Verificação:** Teste o aplicativo com diferentes formatos de áudio e verifique se a reprodução funciona corretamente em segundo plano. Este desafio trabalha com manipulação de arquivos, reprodução de áudio e `Service`.\n\n**Avançado:**\n\n7.  **Aplicativo de Realidade Aumentada:** Utilize o ARCore para criar um aplicativo de realidade aumentada que permita ao usuário colocar objetos virtuais em seu ambiente.\n    *   **Critérios de Sucesso:** O aplicativo deve detectar planos no ambiente e permitir que o usuário toque na tela para colocar objetos virtuais (e.g., modelos 3D simples). Os objetos devem permanecer fixos no ambiente mesmo quando o usuário move o dispositivo.\n    *   **Verificação:** Teste o aplicativo em diferentes ambientes e verifique se a detecção de planos e a colocação de objetos virtuais funcionam corretamente. Este desafio envolve o uso de ARCore, OpenGL e conceitos de realidade aumentada.\n\n8.  **Chat em Tempo Real com Firebase:** Implemente um aplicativo de chat em tempo real utilizando o Firebase Realtime Database e o Firebase Authentication.\n    *   **Critérios de Sucesso:** O usuário deve poder criar uma conta e fazer login no aplicativo. As mensagens devem ser exibidas em tempo real para todos os usuários conectados. Utilize o Firebase Cloud Messaging para enviar notificações push quando novas mensagens são recebidas.\n    *   **Verificação:** Teste o aplicativo com múltiplos usuários e verifique se as mensagens são sincronizadas corretamente em tempo real. Este desafio reforça o uso de Firebase, autenticação, bancos de dados em tempo real e notificações push.\n\n9.  **Reconhecimento de Imagem com Machine Learning:** Integre o TensorFlow Lite para criar um aplicativo que reconheça objetos em imagens capturadas pela câmera do dispositivo.\n    *   **Critérios de Sucesso:** O aplicativo deve exibir a imagem capturada pela câmera e identificar os objetos presentes na imagem com uma certa precisão. Utilize um modelo de machine learning pré-treinado (e.g., MobileNet) para realizar o reconhecimento de imagem.\n    *   **Verificação:** Teste o aplicativo com diferentes objetos e verifique se o reconhecimento de imagem funciona corretamente. Este desafio envolve o uso de TensorFlow Lite, processamento de imagem e conceitos de machine learning.\n\n"
          },
          "metadata": {}
        }
      ]
    }
  ]
}